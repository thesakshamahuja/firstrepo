{
 "cells": [
  {
   "cell_type": "markdown",
   "id": "875bf4eb-e456-45ad-93ea-cda8a9a7615d",
   "metadata": {},
   "source": [
    "# Data Science Tools and Ecosystem"
   ]
  },
  {
   "cell_type": "markdown",
   "id": "576aaad1-8e70-466f-ad5b-cf85e97e37c7",
   "metadata": {},
   "source": [
    "In this notebook, Data Science Tools and Ecosystem are summarized."
   ]
  },
  {
   "cell_type": "markdown",
   "id": "4bddfae4-cdf3-4c3b-aa77-22fbe1785a96",
   "metadata": {},
   "source": [
    "Objectives:\n",
    "- Popular Languages in Data Science\n",
    "- Commonly Used libraries in Data Science\n",
    "- Data Science Tools\n"
   ]
  },
  {
   "cell_type": "markdown",
   "id": "7047bca9-ed8d-498d-b8f9-163d972bd737",
   "metadata": {},
   "source": [
    "Some of the popular languages that Data Scientists use are:\n",
    "1. R\n",
    "2. Python\n",
    "3. SQL\n",
    "4. Java"
   ]
  },
  {
   "cell_type": "markdown",
   "id": "a7872162-69e2-41eb-83f6-c2370059b1a0",
   "metadata": {},
   "source": [
    "Some of the commonly used libraries used by Data Scientists include:\n",
    "1. NumPy\n",
    "2. Matplotlib\n",
    "3. SciPy\n",
    "4. Seaborn"
   ]
  },
  {
   "cell_type": "markdown",
   "id": "0cbc8b48-dd82-4a11-a6a6-2bd29a7cbe17",
   "metadata": {},
   "source": [
    "| Data Science Tools |\n",
    "| ------------------ |\n",
    "| R Studio |\n",
    "| Python |\n",
    "| Jupyter |"
   ]
  },
  {
   "cell_type": "markdown",
   "id": "cf729f4d-cf38-4283-a730-70bb193c9f90",
   "metadata": {},
   "source": [
    "### Below are a few examples of evaluating arithmetic expressions in Python"
   ]
  },
  {
   "cell_type": "code",
   "execution_count": 1,
   "id": "dc381cac-2238-4a88-ab44-e9d5f8617ccd",
   "metadata": {},
   "outputs": [
    {
     "data": {
      "text/plain": [
       "17"
      ]
     },
     "execution_count": 1,
     "metadata": {},
     "output_type": "execute_result"
    }
   ],
   "source": [
    "# This is a simple arithmetic expression to multiply and then add integers. \n",
    "\n",
    "(3*4)+5"
   ]
  },
  {
   "cell_type": "code",
   "execution_count": 2,
   "id": "6b5ad6c9-2a82-4cc0-8f4a-583c209e9f6d",
   "metadata": {},
   "outputs": [
    {
     "data": {
      "text/plain": [
       "3.3333333333333335"
      ]
     },
     "execution_count": 2,
     "metadata": {},
     "output_type": "execute_result"
    }
   ],
   "source": [
    "# This will convert 200 minutes to hours by dividing by 60.\n",
    "\n",
    "200/60"
   ]
  },
  {
   "cell_type": "markdown",
   "id": "bd3a19e0-a38f-40c8-a3fa-f67fd9820b34",
   "metadata": {},
   "source": [
    "## Author\n",
    "Saksham Ahuja"
   ]
  }
 ],
 "metadata": {
  "kernelspec": {
   "display_name": "Python 3 (ipykernel)",
   "language": "python",
   "name": "python3"
  },
  "language_info": {
   "codemirror_mode": {
    "name": "ipython",
    "version": 3
   },
   "file_extension": ".py",
   "mimetype": "text/x-python",
   "name": "python",
   "nbconvert_exporter": "python",
   "pygments_lexer": "ipython3",
   "version": "3.11.7"
  }
 },
 "nbformat": 4,
 "nbformat_minor": 5
}
